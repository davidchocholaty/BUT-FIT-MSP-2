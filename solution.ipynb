{
 "cells": [
  {
   "cell_type": "markdown",
   "id": "ac503fb7",
   "metadata": {},
   "source": [
    "# Projekt MSP1\n",
    "\n",
    "__Autor:__\n",
    "\n",
    "David Chocholatý, xchoch09"
   ]
  },
  {
   "cell_type": "markdown",
   "id": "e9955993",
   "metadata": {},
   "source": [
    "## Úloha 1 - Bayesovské odhady"
   ]
  },
  {
   "cell_type": "markdown",
   "id": "045ff231",
   "metadata": {},
   "source": [
    "### a) Konjugované apriorní a aposteriorní rozdělení, prediktivní rozdělení"
   ]
  },
  {
   "cell_type": "markdown",
   "id": "f67bc638",
   "metadata": {},
   "source": [
    "- počet připojení za 1 ms popsaný 𝑋~𝑃𝑜(𝜆)\n",
    "- expertní odhad: každých 5 ms by mělo nastat 10 připojení\n",
    "- máme pozorování za dobu 100 ms\n"
   ]
  },
  {
   "cell_type": "code",
   "execution_count": 1,
   "id": "982fc0bb",
   "metadata": {},
   "outputs": [],
   "source": [
    "# Imports\n",
    "import pandas as pd\n",
    "import matplotlib.pyplot as plt\n",
    "import scipy.stats as stats\n",
    "import numpy as np"
   ]
  },
  {
   "cell_type": "code",
   "execution_count": 2,
   "id": "56075eed",
   "metadata": {},
   "outputs": [
    {
     "data": {
      "text/html": [
       "<div>\n",
       "<style scoped>\n",
       "    .dataframe tbody tr th:only-of-type {\n",
       "        vertical-align: middle;\n",
       "    }\n",
       "\n",
       "    .dataframe tbody tr th {\n",
       "        vertical-align: top;\n",
       "    }\n",
       "\n",
       "    .dataframe thead th {\n",
       "        text-align: right;\n",
       "    }\n",
       "</style>\n",
       "<table border=\"1\" class=\"dataframe\">\n",
       "  <thead>\n",
       "    <tr style=\"text-align: right;\">\n",
       "      <th></th>\n",
       "      <th>uloha_1 a)</th>\n",
       "      <th>uloha_1 b)_prior</th>\n",
       "      <th>skupina</th>\n",
       "      <th>uloha_1 b)_pozorování</th>\n",
       "    </tr>\n",
       "  </thead>\n",
       "  <tbody>\n",
       "    <tr>\n",
       "      <th>0</th>\n",
       "      <td>2.0</td>\n",
       "      <td>3.634785</td>\n",
       "      <td>0</td>\n",
       "      <td>3.626656</td>\n",
       "    </tr>\n",
       "    <tr>\n",
       "      <th>1</th>\n",
       "      <td>2.0</td>\n",
       "      <td>2.868113</td>\n",
       "      <td>0</td>\n",
       "      <td>3.008269</td>\n",
       "    </tr>\n",
       "    <tr>\n",
       "      <th>2</th>\n",
       "      <td>1.0</td>\n",
       "      <td>2.149160</td>\n",
       "      <td>0</td>\n",
       "      <td>2.989829</td>\n",
       "    </tr>\n",
       "    <tr>\n",
       "      <th>3</th>\n",
       "      <td>3.0</td>\n",
       "      <td>4.263065</td>\n",
       "      <td>0</td>\n",
       "      <td>2.371630</td>\n",
       "    </tr>\n",
       "    <tr>\n",
       "      <th>4</th>\n",
       "      <td>0.0</td>\n",
       "      <td>2.594745</td>\n",
       "      <td>0</td>\n",
       "      <td>4.009366</td>\n",
       "    </tr>\n",
       "    <tr>\n",
       "      <th>...</th>\n",
       "      <td>...</td>\n",
       "      <td>...</td>\n",
       "      <td>...</td>\n",
       "      <td>...</td>\n",
       "    </tr>\n",
       "    <tr>\n",
       "      <th>99995</th>\n",
       "      <td>NaN</td>\n",
       "      <td>1.725637</td>\n",
       "      <td>9999</td>\n",
       "      <td>NaN</td>\n",
       "    </tr>\n",
       "    <tr>\n",
       "      <th>99996</th>\n",
       "      <td>NaN</td>\n",
       "      <td>4.048414</td>\n",
       "      <td>9999</td>\n",
       "      <td>NaN</td>\n",
       "    </tr>\n",
       "    <tr>\n",
       "      <th>99997</th>\n",
       "      <td>NaN</td>\n",
       "      <td>3.000662</td>\n",
       "      <td>9999</td>\n",
       "      <td>NaN</td>\n",
       "    </tr>\n",
       "    <tr>\n",
       "      <th>99998</th>\n",
       "      <td>NaN</td>\n",
       "      <td>3.058451</td>\n",
       "      <td>9999</td>\n",
       "      <td>NaN</td>\n",
       "    </tr>\n",
       "    <tr>\n",
       "      <th>99999</th>\n",
       "      <td>NaN</td>\n",
       "      <td>4.487418</td>\n",
       "      <td>9999</td>\n",
       "      <td>NaN</td>\n",
       "    </tr>\n",
       "  </tbody>\n",
       "</table>\n",
       "<p>100000 rows × 4 columns</p>\n",
       "</div>"
      ],
      "text/plain": [
       "       uloha_1 a)  uloha_1 b)_prior  skupina  uloha_1 b)_pozorování\n",
       "0             2.0          3.634785        0               3.626656\n",
       "1             2.0          2.868113        0               3.008269\n",
       "2             1.0          2.149160        0               2.989829\n",
       "3             3.0          4.263065        0               2.371630\n",
       "4             0.0          2.594745        0               4.009366\n",
       "...           ...               ...      ...                    ...\n",
       "99995         NaN          1.725637     9999                    NaN\n",
       "99996         NaN          4.048414     9999                    NaN\n",
       "99997         NaN          3.000662     9999                    NaN\n",
       "99998         NaN          3.058451     9999                    NaN\n",
       "99999         NaN          4.487418     9999                    NaN\n",
       "\n",
       "[100000 rows x 4 columns]"
      ]
     },
     "execution_count": 2,
     "metadata": {},
     "output_type": "execute_result"
    }
   ],
   "source": [
    "df_1 = pd.read_excel(open('Projekt-2_Data.xlsx', 'rb'), sheet_name='Úloha 1')\n",
    "df_1"
   ]
  },
  {
   "cell_type": "code",
   "execution_count": 3,
   "id": "2cdcff7f",
   "metadata": {},
   "outputs": [
    {
     "data": {
      "text/plain": [
       "0     2\n",
       "1     2\n",
       "2     1\n",
       "3     3\n",
       "4     0\n",
       "     ..\n",
       "95    3\n",
       "96    0\n",
       "97    3\n",
       "98    1\n",
       "99    1\n",
       "Name: uloha_1 a), Length: 100, dtype: int64"
      ]
     },
     "execution_count": 3,
     "metadata": {},
     "output_type": "execute_result"
    }
   ],
   "source": [
    "OBSERVATIONS_COUNT = 100\n",
    "\n",
    "observations = df_1['uloha_1 a)'][:OBSERVATIONS_COUNT]\n",
    "observations = observations.astype('int64')\n",
    "observations"
   ]
  },
  {
   "cell_type": "markdown",
   "id": "8ad789b6",
   "metadata": {},
   "source": [
    "#### Konjugované apriorní a aposteriorní rozdělení (expertní informace)"
   ]
  },
  {
   "cell_type": "code",
   "execution_count": 4,
   "id": "d27e4bf6",
   "metadata": {},
   "outputs": [
    {
     "name": "stdout",
     "output_type": "stream",
     "text": [
      "apriorní:\n",
      "-----------\n",
      "alfa: 10\n",
      "beta: 5\n",
      "aposteriorní:\n",
      "-----------\n",
      "alfa: 176\n",
      "beta: 105\n"
     ]
    },
    {
     "data": {
      "image/png": "[encoded data removed]",
      "text/plain": [
       "<Figure size 640x480 with 1 Axes>"
      ]
     },
     "metadata": {},
     "output_type": "display_data"
    }
   ],
   "source": [
    "alpha_prior = 10\n",
    "beta_prior = 5\n",
    "\n",
    "alpha_posterior = alpha_prior + sum(observations)\n",
    "beta_posterior = beta_prior + len(observations)\n",
    "\n",
    "print('apriorní:')\n",
    "print('-----------')\n",
    "print('alfa: ' + str(alpha_prior))\n",
    "print('beta: ' + str(beta_prior))\n",
    "print('aposteriorní:')\n",
    "print('-----------')\n",
    "print('alfa: ' + str(alpha_posterior))\n",
    "print('beta: ' + str(beta_posterior))\n",
    "\n",
    "x = np.linspace(0, 8, 1000)\n",
    "\n",
    "pdf_prior = stats.gamma.pdf(x, alpha_prior, scale=1/beta_prior)\n",
    "pdf_posterior = stats.gamma.pdf(x, alpha_posterior, scale=1/beta_posterior)\n",
    "\n",
    "fig, ax = plt.subplots(1, 1)\n",
    "plt.title('Apriorní a aposteriorní hustota parametru λ')\n",
    "ax.plot(x, pdf_prior, color='royalblue', label='Apriorní hustota', alpha=0.75)\n",
    "ax.plot(x, pdf_posterior, color='dimgray', label='Aposteriorní hustota', alpha=0.75)\n",
    "ax.legend(loc='best')\n",
    "plt.xlabel('λ')\n",
    "plt.ylabel('Hustota pravděpodobnosti')\n",
    "plt.show()"
   ]
  },
  {
   "cell_type": "markdown",
   "id": "d10a89a7",
   "metadata": {},
   "source": [
    "#### Prediktivní rozdělení (pozorování)"
   ]
  },
  {
   "cell_type": "code",
   "execution_count": 5,
   "id": "1e9188c2",
   "metadata": {
    "scrolled": true
   },
   "outputs": [
    {
     "data": {
      "image/png": "[encoded data removed]",
      "text/plain": [
       "<Figure size 640x480 with 1 Axes>"
      ]
     },
     "metadata": {},
     "output_type": "display_data"
    }
   ],
   "source": [
    "x = np.arange(0, 9)\n",
    "\n",
    "pmf_prior = stats.nbinom.pmf(x, alpha_prior, beta_prior/(1 + beta_prior))\n",
    "pmf_posterior = stats.nbinom.pmf(x, alpha_posterior, beta_posterior/(1 + beta_posterior))\n",
    "\n",
    "fig, ax = plt.subplots(1, 1)\n",
    "plt.title('Apriorní a aposteriorní prediktivní hustota')\n",
    "# plt.plot(x, pmf_prior, 'o', color='royalblue', label='Apriorní prediktivní hustota')\n",
    "plt.bar(x - 0.2, pmf_prior, width=0.4, color='royalblue', edgecolor = 'black', linewidth=0.7, label='Apriorní prediktivní hustota')\n",
    "# plt.plot(x, pmf_posterior, 'o', color='dimgray', label='Aposteriorní prediktivní hustota')\n",
    "plt.bar(x + 0.2, pmf_posterior, width=0.4, color='dimgray', edgecolor = 'black', linewidth=0.7, label='Aposteriorní prediktivní hustota')\n",
    "ax.legend(loc='best')\n",
    "plt.xlabel('Čas [ms]')\n",
    "plt.ylabel('Hustota pozorování x')\n",
    "plt.show()"
   ]
  },
  {
   "cell_type": "markdown",
   "id": "fa9977be",
   "metadata": {},
   "source": [
    "#### 95% interval spolehlivosti"
   ]
  },
  {
   "cell_type": "code",
   "execution_count": 6,
   "id": "dd007c4d",
   "metadata": {},
   "outputs": [
    {
     "name": "stdout",
     "output_type": "stream",
     "text": [
      "Apriorní:\n",
      "0.9590777392264868 3.416960690283833\n",
      "Aposteriorní:\n",
      "1.4376938284869922 1.9327207471868797\n"
     ]
    }
   ],
   "source": [
    "low_prior = stats.gamma.ppf(0.025, alpha_prior, scale=1/beta_prior)\n",
    "high_prior = stats.gamma.ppf(0.975, alpha_prior, scale=1/beta_prior)\n",
    "\n",
    "low_posterior = stats.gamma.ppf(0.025, alpha_posterior, scale=1/beta_posterior)\n",
    "high_posterior = stats.gamma.ppf(0.975, alpha_posterior, scale=1/beta_posterior)\n",
    "\n",
    "print(\"Apriorní:\")\n",
    "print(low_prior, high_prior)\n",
    "print(\"Aposteriorní:\")\n",
    "print(low_posterior, high_posterior)\n",
    "# TODO posterior"
   ]
  },
  {
   "cell_type": "code",
   "execution_count": 7,
   "id": "8bcb649b",
   "metadata": {},
   "outputs": [
    {
     "name": "stdout",
     "output_type": "stream",
     "text": [
      "1.6761904761904762 1.6730169441241727\n"
     ]
    }
   ],
   "source": [
    "mean = alpha_posterior / beta_posterior\n",
    "median = stats.gamma.ppf(0.5, a=alpha_posterior, scale=1/beta_posterior)\n",
    "\n",
    "print(mean, median)"
   ]
  },
  {
   "cell_type": "code",
   "execution_count": 8,
   "id": "bfdc6dcd",
   "metadata": {},
   "outputs": [
    {
     "name": "stdout",
     "output_type": "stream",
     "text": [
      "Apriorní:\n",
      "2.0\n",
      "Aposteriorní:\n",
      "1.6761904761904762\n"
     ]
    }
   ],
   "source": [
    "mean_2_prior = stats.poisson.mean(alpha_prior / beta_prior)\n",
    "mean_2_pos = stats.poisson.mean(alpha_posterior / beta_posterior)\n",
    "\n",
    "print(\"Apriorní:\")\n",
    "print(mean_2_prior)\n",
    "\n",
    "print(\"Aposteriorní:\")\n",
    "print(mean_2_pos)"
   ]
  },
  {
   "cell_type": "markdown",
   "id": "fa1640aa",
   "metadata": {},
   "source": [
    "#### Aproximace diskrétním rozdělením"
   ]
  },
  {
   "cell_type": "code",
   "execution_count": 9,
   "id": "aed4629a",
   "metadata": {},
   "outputs": [
    {
     "data": {
      "text/html": [
       "<div>\n",
       "<style scoped>\n",
       "    .dataframe tbody tr th:only-of-type {\n",
       "        vertical-align: middle;\n",
       "    }\n",
       "\n",
       "    .dataframe tbody tr th {\n",
       "        vertical-align: top;\n",
       "    }\n",
       "\n",
       "    .dataframe thead th {\n",
       "        text-align: right;\n",
       "    }\n",
       "</style>\n",
       "<table border=\"1\" class=\"dataframe\">\n",
       "  <thead>\n",
       "    <tr style=\"text-align: right;\">\n",
       "      <th></th>\n",
       "      <th>skupina</th>\n",
       "      <th>uloha_1 b)_prior</th>\n",
       "    </tr>\n",
       "  </thead>\n",
       "  <tbody>\n",
       "    <tr>\n",
       "      <th>0</th>\n",
       "      <td>0</td>\n",
       "      <td>3.634785</td>\n",
       "    </tr>\n",
       "    <tr>\n",
       "      <th>1</th>\n",
       "      <td>0</td>\n",
       "      <td>2.868113</td>\n",
       "    </tr>\n",
       "    <tr>\n",
       "      <th>2</th>\n",
       "      <td>0</td>\n",
       "      <td>2.149160</td>\n",
       "    </tr>\n",
       "    <tr>\n",
       "      <th>3</th>\n",
       "      <td>0</td>\n",
       "      <td>4.263065</td>\n",
       "    </tr>\n",
       "    <tr>\n",
       "      <th>4</th>\n",
       "      <td>0</td>\n",
       "      <td>2.594745</td>\n",
       "    </tr>\n",
       "    <tr>\n",
       "      <th>...</th>\n",
       "      <td>...</td>\n",
       "      <td>...</td>\n",
       "    </tr>\n",
       "    <tr>\n",
       "      <th>99995</th>\n",
       "      <td>9999</td>\n",
       "      <td>1.725637</td>\n",
       "    </tr>\n",
       "    <tr>\n",
       "      <th>99996</th>\n",
       "      <td>9999</td>\n",
       "      <td>4.048414</td>\n",
       "    </tr>\n",
       "    <tr>\n",
       "      <th>99997</th>\n",
       "      <td>9999</td>\n",
       "      <td>3.000662</td>\n",
       "    </tr>\n",
       "    <tr>\n",
       "      <th>99998</th>\n",
       "      <td>9999</td>\n",
       "      <td>3.058451</td>\n",
       "    </tr>\n",
       "    <tr>\n",
       "      <th>99999</th>\n",
       "      <td>9999</td>\n",
       "      <td>4.487418</td>\n",
       "    </tr>\n",
       "  </tbody>\n",
       "</table>\n",
       "<p>100000 rows × 2 columns</p>\n",
       "</div>"
      ],
      "text/plain": [
       "       skupina  uloha_1 b)_prior\n",
       "0            0          3.634785\n",
       "1            0          2.868113\n",
       "2            0          2.149160\n",
       "3            0          4.263065\n",
       "4            0          2.594745\n",
       "...        ...               ...\n",
       "99995     9999          1.725637\n",
       "99996     9999          4.048414\n",
       "99997     9999          3.000662\n",
       "99998     9999          3.058451\n",
       "99999     9999          4.487418\n",
       "\n",
       "[100000 rows x 2 columns]"
      ]
     },
     "execution_count": 9,
     "metadata": {},
     "output_type": "execute_result"
    }
   ],
   "source": [
    "# Apriorní informace\n",
    "MEASUREMENTS_COUNT = 100000\n",
    "measured_vals_prior = df_1[['skupina', 'uloha_1 b)_prior']][:MEASUREMENTS_COUNT]\n",
    "measured_vals_prior"
   ]
  },
  {
   "cell_type": "code",
   "execution_count": 10,
   "id": "b9d10368",
   "metadata": {},
   "outputs": [
    {
     "data": {
      "text/plain": [
       "0     3.626656\n",
       "1     3.008269\n",
       "2     2.989829\n",
       "3     2.371630\n",
       "4     4.009366\n",
       "        ...   \n",
       "95    3.438933\n",
       "96    3.430973\n",
       "97    3.727306\n",
       "98    4.257909\n",
       "99    2.081679\n",
       "Name: uloha_1 b)_pozorování, Length: 100, dtype: float64"
      ]
     },
     "execution_count": 10,
     "metadata": {},
     "output_type": "execute_result"
    }
   ],
   "source": [
    "# Rozdělení procesu\n",
    "process_distribution = df_1['uloha_1 b)_pozorování'][:OBSERVATIONS_COUNT]\n",
    "process_distribution"
   ]
  },
  {
   "cell_type": "code",
   "execution_count": 104,
   "id": "8fd08cca",
   "metadata": {},
   "outputs": [
    {
     "name": "stdout",
     "output_type": "stream",
     "text": [
      "[0.         0.         0.         0.         0.         0.\n",
      " 0.         0.         0.         0.         0.         0.\n",
      " 0.         0.         0.         0.         0.         0.\n",
      " 0.         0.         0.         0.         0.         0.\n",
      " 0.         0.         0.         0.         0.06080918 0.05586125\n",
      " 0.05226924 0.04963764 0.04769849 0.04626526 0.04520517 0.04442194\n",
      " 0.04384474 0.04342097 0.04311131 0.04288626 0.04272366 0.04260695\n",
      " 0.04252373 0.04246482 0.0424234  0.0423945  0.04237448 0.04236072\n",
      " 0.04235133 0.04234497]\n"
     ]
    }
   ],
   "source": [
    "# Parametr b\n",
    "# measured_vals_prior['group'] = [i/10 for i in range(MEASUREMENTS_COUNT)]\n",
    "#df['count_max'] = df.groupby(['Sp', 'Mt'])['count'].transform(max)\n",
    "# measured_vals_prior\n",
    "a = 1\n",
    "mu = 3\n",
    "sigma_sqr = 1\n",
    "a_norm = (a - mu) / sigma_sqr\n",
    "\n",
    "groups = measured_vals_prior.groupby('skupina')['uloha_1 b)_prior'].max()\n",
    "\n",
    "hist, bins = np.histogram(groups, bins=50)\n",
    "hist = hist / 10000\n",
    "\n",
    "bins_centers = []\n",
    "\n",
    "for j in range(1, len(bins)):\n",
    "    b_j = (bins[j - 1] + bins[j]) / 2\n",
    "    bins_centers.append(b_j)\n",
    "\n",
    "divider_sum = 0\n",
    "for i in range(len(bins)):\n",
    "    divider_sum = divider_sum + np.prod([stats.truncnorm.pdf(data, a_norm, b_norm, mu, sigma_sqr) for data in process_distribution])\n",
    "\n",
    "posterior = []\n",
    "likelihoods = []\n",
    "for i in range(1, len(bins)):\n",
    "    b_j = (bins[i - 1] + bins[i]) / 2\n",
    "    b_norm = (b_j - mu) / sigma_sqr\n",
    "    likelihood = np.prod([stats.truncnorm.pdf(data, a_norm, b_norm, mu, sigma_sqr) for data in process_distribution])\n",
    "    likelihoods.append(likelihood)\n",
    "    posterior.append((likelihood * hist[i-1]) / divider_sum)\n",
    "\n",
    "likelihoods = likelihoods/sum(likelihoods)\n",
    "posterior = posterior/sum(posterior)\n",
    "print(likelihoods)"
   ]
  },
  {
   "cell_type": "code",
   "execution_count": 12,
   "id": "685ebbea",
   "metadata": {},
   "outputs": [
    {
     "data": {
      "text/html": [
       "<div>\n",
       "<style scoped>\n",
       "    .dataframe tbody tr th:only-of-type {\n",
       "        vertical-align: middle;\n",
       "    }\n",
       "\n",
       "    .dataframe tbody tr th {\n",
       "        vertical-align: top;\n",
       "    }\n",
       "\n",
       "    .dataframe thead th {\n",
       "        text-align: right;\n",
       "    }\n",
       "</style>\n",
       "<table border=\"1\" class=\"dataframe\">\n",
       "  <thead>\n",
       "    <tr style=\"text-align: right;\">\n",
       "      <th></th>\n",
       "      <th>skupina</th>\n",
       "      <th>uloha_1 b)_prior</th>\n",
       "    </tr>\n",
       "  </thead>\n",
       "  <tbody>\n",
       "    <tr>\n",
       "      <th>0</th>\n",
       "      <td>0.000000e+00</td>\n",
       "      <td>1.936930e+45</td>\n",
       "    </tr>\n",
       "    <tr>\n",
       "      <th>1</th>\n",
       "      <td>0.000000e+00</td>\n",
       "      <td>1.528380e+45</td>\n",
       "    </tr>\n",
       "    <tr>\n",
       "      <th>2</th>\n",
       "      <td>0.000000e+00</td>\n",
       "      <td>1.145260e+45</td>\n",
       "    </tr>\n",
       "    <tr>\n",
       "      <th>3</th>\n",
       "      <td>0.000000e+00</td>\n",
       "      <td>2.271733e+45</td>\n",
       "    </tr>\n",
       "    <tr>\n",
       "      <th>4</th>\n",
       "      <td>0.000000e+00</td>\n",
       "      <td>1.382706e+45</td>\n",
       "    </tr>\n",
       "    <tr>\n",
       "      <th>...</th>\n",
       "      <td>...</td>\n",
       "      <td>...</td>\n",
       "    </tr>\n",
       "    <tr>\n",
       "      <th>99995</th>\n",
       "      <td>5.328338e+48</td>\n",
       "      <td>9.195694e+44</td>\n",
       "    </tr>\n",
       "    <tr>\n",
       "      <th>99996</th>\n",
       "      <td>5.328338e+48</td>\n",
       "      <td>2.157348e+45</td>\n",
       "    </tr>\n",
       "    <tr>\n",
       "      <th>99997</th>\n",
       "      <td>5.328338e+48</td>\n",
       "      <td>1.599014e+45</td>\n",
       "    </tr>\n",
       "    <tr>\n",
       "      <th>99998</th>\n",
       "      <td>5.328338e+48</td>\n",
       "      <td>1.629809e+45</td>\n",
       "    </tr>\n",
       "    <tr>\n",
       "      <th>99999</th>\n",
       "      <td>5.328338e+48</td>\n",
       "      <td>2.391287e+45</td>\n",
       "    </tr>\n",
       "  </tbody>\n",
       "</table>\n",
       "<p>100000 rows × 2 columns</p>\n",
       "</div>"
      ],
      "text/plain": [
       "            skupina  uloha_1 b)_prior\n",
       "0      0.000000e+00      1.936930e+45\n",
       "1      0.000000e+00      1.528380e+45\n",
       "2      0.000000e+00      1.145260e+45\n",
       "3      0.000000e+00      2.271733e+45\n",
       "4      0.000000e+00      1.382706e+45\n",
       "...             ...               ...\n",
       "99995  5.328338e+48      9.195694e+44\n",
       "99996  5.328338e+48      2.157348e+45\n",
       "99997  5.328338e+48      1.599014e+45\n",
       "99998  5.328338e+48      1.629809e+45\n",
       "99999  5.328338e+48      2.391287e+45\n",
       "\n",
       "[100000 rows x 2 columns]"
      ]
     },
     "execution_count": 12,
     "metadata": {},
     "output_type": "execute_result"
    }
   ],
   "source": []
  },
  {
   "cell_type": "code",
   "execution_count": 105,
   "id": "8a094760",
   "metadata": {},
   "outputs": [
    {
     "name": "stdout",
     "output_type": "stream",
     "text": [
      "50 50\n"
     ]
    },
    {
     "data": {
      "image/png": "[encoded data removed]",
      "text/plain": [
       "<Figure size 640x480 with 1 Axes>"
      ]
     },
     "metadata": {},
     "output_type": "display_data"
    }
   ],
   "source": [
    "\n",
    "\n",
    "fig, ax = plt.subplots(1, 1)\n",
    "# plt.title('Apriorní a aposteriorní prediktivní hustota')\n",
    "# plt.plot(x, pmf_prior, 'o', color='royalblue', label='Apriorní prediktivní hustota')\n",
    "# plt.plot(x, pmf_posterior, 'o', color='dimgray', label='Aposteriorní prediktivní hustota')\n",
    "# ax.legend(loc='best')\n",
    "# plt.xlabel('Čas [ms]')\n",
    "# plt.ylabel('Hustota pozorování x')\n",
    "\n",
    "print(len(hist), len(bins_centers))\n",
    "\n",
    "plt.bar(bins_centers, hist, width=bins_centers[1]-bins_centers[0], alpha=0.5, label='Aposteriorní hustota', edgecolor='black', linewidth=0.7)\n",
    "plt.bar(bins_centers, likelihoods, width=bins_centers[1]-bins_centers[0], alpha=0.5, label='Aposteriorní hustota', edgecolor='black', linewidth=0.7)\n",
    "plt.bar(bins_centers, posterior, width=bins_centers[1]-bins_centers[0], alpha=0.5, label='Aposteriorní hustota', edgecolor='black', linewidth=0.7)\n",
    "\n",
    "# ax.hist(groups, bins=50, edgecolor='black', linewidth=0.7, density=True)\n",
    "# ax.bar(bins_centers, likelihoods, bins=22, edgecolor='black', linewidth=0.7, density=True)\n",
    "plt.show()\n",
    "# ax.hist(d[\"time\"], label=conf, bins=200)"
   ]
  }
 ],
 "metadata": {
  "kernelspec": {
   "display_name": "Python 3 (ipykernel)",
   "language": "python",
   "name": "python3"
  },
  "language_info": {
   "codemirror_mode": {
    "name": "ipython",
    "version": 3
   },
   "file_extension": ".py",
   "mimetype": "text/x-python",
   "name": "python",
   "nbconvert_exporter": "python",
   "pygments_lexer": "ipython3",
   "version": "3.11.5"
  }
 },
 "nbformat": 4,
 "nbformat_minor": 5
}
